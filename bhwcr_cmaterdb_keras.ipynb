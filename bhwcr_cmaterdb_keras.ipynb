{
  "nbformat": 4,
  "nbformat_minor": 0,
  "metadata": {
    "colab": {
      "name": "bhwcr-cmaterdb-keras.ipynb",
      "provenance": [],
      "collapsed_sections": [],
      "include_colab_link": true
    },
    "language_info": {
      "codemirror_mode": {
        "name": "ipython",
        "version": 3
      },
      "file_extension": ".py",
      "mimetype": "text/x-python",
      "name": "python",
      "nbconvert_exporter": "python",
      "pygments_lexer": "ipython3",
      "version": "3.5.2"
    },
    "kernelspec": {
      "display_name": "Python 3",
      "language": "python",
      "name": "python3"
    }
  },
  "cells": [
    {
      "cell_type": "markdown",
      "metadata": {
        "id": "view-in-github",
        "colab_type": "text"
      },
      "source": [
        "<a href=\"https://colab.research.google.com/github/raihan-tanvir/bengali-hwcr/blob/master/bhwcr_cmaterdb_keras.ipynb\" target=\"_parent\"><img src=\"https://colab.research.google.com/assets/colab-badge.svg\" alt=\"Open In Colab\"/></a>"
      ]
    },
    {
      "cell_type": "code",
      "metadata": {
        "id": "6VkxGIZc8C9T",
        "colab_type": "code",
        "colab": {
          "base_uri": "https://localhost:8080/",
          "height": 34
        },
        "outputId": "42fb7a15-e324-460d-b8d3-2cb2b5035bf2"
      },
      "source": [
        "from google.colab import drive\n",
        "drive.mount('/content/drive')"
      ],
      "execution_count": null,
      "outputs": [
        {
          "output_type": "stream",
          "text": [
            "Mounted at /content/drive\n"
          ],
          "name": "stdout"
        }
      ]
    },
    {
      "cell_type": "code",
      "metadata": {
        "id": "LhLUDd6cYOpe",
        "colab_type": "code",
        "colab": {}
      },
      "source": [
        "import numpy as np\n",
        "import matplotlib.pyplot as plt\n",
        "import keras\n",
        "import os\n",
        "from PIL import Image\n",
        "from keras.models import Sequential,load_model\n",
        "from keras.layers import Dense, Dropout, Flatten\n",
        "from keras.layers import Conv2D, MaxPooling2D\n",
        "from keras import backend as K\n",
        "from keras.models import model_from_json\n",
        "from sklearn.model_selection import train_test_split\n",
        "\n",
        "%matplotlib inline"
      ],
      "execution_count": null,
      "outputs": []
    },
    {
      "cell_type": "code",
      "metadata": {
        "id": "ZsSaJUWd0yHc",
        "colab_type": "code",
        "colab": {
          "base_uri": "https://localhost:8080/",
          "height": 445
        },
        "outputId": "3b62aabd-cca4-4f35-f4bd-83021a5e17dc"
      },
      "source": [
        "!wget https://www.dropbox.com/s/55bhfr3ycvsewsi/CMATERdb%203.1.2.rar\n",
        "!unrar x CMATERdb\\ 3.1.2.rar -idq"
      ],
      "execution_count": null,
      "outputs": [
        {
          "output_type": "stream",
          "text": [
            "--2020-09-19 08:45:35--  https://www.dropbox.com/s/55bhfr3ycvsewsi/CMATERdb%203.1.2.rar\n",
            "Resolving www.dropbox.com (www.dropbox.com)... 162.125.82.1, 2620:100:6032:1::a27d:5201\n",
            "Connecting to www.dropbox.com (www.dropbox.com)|162.125.82.1|:443... connected.\n",
            "HTTP request sent, awaiting response... 301 Moved Permanently\n",
            "Location: /s/raw/55bhfr3ycvsewsi/CMATERdb%203.1.2.rar [following]\n",
            "--2020-09-19 08:45:35--  https://www.dropbox.com/s/raw/55bhfr3ycvsewsi/CMATERdb%203.1.2.rar\n",
            "Reusing existing connection to www.dropbox.com:443.\n",
            "HTTP request sent, awaiting response... 302 Found\n",
            "Location: https://ucdd22d2909f77e6f6f8b8473eda.dl.dropboxusercontent.com/cd/0/inline/A_pGAWR3FXIgUhZgCAfAjixVO4-b1I2sb0qzPCWpZm79oWBj5xS0Oiahudm6O4HtVwGHE0DKVxp1q5i0OTtcYkvwWwe7MCIjp6Sq0xLwslY1rg/file# [following]\n",
            "--2020-09-19 08:45:35--  https://ucdd22d2909f77e6f6f8b8473eda.dl.dropboxusercontent.com/cd/0/inline/A_pGAWR3FXIgUhZgCAfAjixVO4-b1I2sb0qzPCWpZm79oWBj5xS0Oiahudm6O4HtVwGHE0DKVxp1q5i0OTtcYkvwWwe7MCIjp6Sq0xLwslY1rg/file\n",
            "Resolving ucdd22d2909f77e6f6f8b8473eda.dl.dropboxusercontent.com (ucdd22d2909f77e6f6f8b8473eda.dl.dropboxusercontent.com)... 162.125.82.15, 2620:100:6032:15::a27d:520f\n",
            "Connecting to ucdd22d2909f77e6f6f8b8473eda.dl.dropboxusercontent.com (ucdd22d2909f77e6f6f8b8473eda.dl.dropboxusercontent.com)|162.125.82.15|:443... connected.\n",
            "HTTP request sent, awaiting response... 302 Found\n",
            "Location: /cd/0/inline2/A_pBaOUnGLEttYA7Z68H9V0JSDUe6FzvhEowHVW2-fpexgfNhRh75TI6v44XBziiQG4xnbICqlsXhUzbsXll2oykgrRL2ufnp5cw-lZX6osxypjgBaIE5ompd_ahDLEukNUI4D8JTnBMYyx1LXdUekQ2veJ1cMeFY9o-j04RrmLqv4aSvCQnlRk2APvKjpJaZjVs24N8C00pfY9_iFPhTlrwmvhC28qO6B8ToL5HhrzGXaBRLx5MZjv8xKNFriC2pl-aKPp7wKA1bl4fEp4DfGNRyzD_S3CqScSfGVdCUYQfhHrlQJ-G90XNCZBOzUG3Gsxj09wH_-vqt4O5-LOl7y2F/file [following]\n",
            "--2020-09-19 08:45:36--  https://ucdd22d2909f77e6f6f8b8473eda.dl.dropboxusercontent.com/cd/0/inline2/A_pBaOUnGLEttYA7Z68H9V0JSDUe6FzvhEowHVW2-fpexgfNhRh75TI6v44XBziiQG4xnbICqlsXhUzbsXll2oykgrRL2ufnp5cw-lZX6osxypjgBaIE5ompd_ahDLEukNUI4D8JTnBMYyx1LXdUekQ2veJ1cMeFY9o-j04RrmLqv4aSvCQnlRk2APvKjpJaZjVs24N8C00pfY9_iFPhTlrwmvhC28qO6B8ToL5HhrzGXaBRLx5MZjv8xKNFriC2pl-aKPp7wKA1bl4fEp4DfGNRyzD_S3CqScSfGVdCUYQfhHrlQJ-G90XNCZBOzUG3Gsxj09wH_-vqt4O5-LOl7y2F/file\n",
            "Reusing existing connection to ucdd22d2909f77e6f6f8b8473eda.dl.dropboxusercontent.com:443.\n",
            "HTTP request sent, awaiting response... 200 OK\n",
            "Length: 8720925 (8.3M) [application/rar]\n",
            "Saving to: ‘CMATERdb 3.1.2.rar’\n",
            "\n",
            "CMATERdb 3.1.2.rar  100%[===================>]   8.32M  19.3MB/s    in 0.4s    \n",
            "\n",
            "2020-09-19 08:45:37 (19.3 MB/s) - ‘CMATERdb 3.1.2.rar’ saved [8720925/8720925]\n",
            "\n"
          ],
          "name": "stdout"
        }
      ]
    },
    {
      "cell_type": "code",
      "metadata": {
        "id": "MuEAIhzGYOps",
        "colab_type": "code",
        "colab": {
          "base_uri": "https://localhost:8080/",
          "height": 34
        },
        "outputId": "d5112ded-ffa5-410f-a1f1-d9511b4119a3"
      },
      "source": [
        "train_path = os.getcwd()+'/BasicFinalDatabase/Train'\n",
        "folders = []\n",
        "[folders.append('/'+i) for i in sorted(os.listdir(train_path))]\n",
        "label_map = ['অ','আ','ই ','ঈ','উ','ঊ','ঋ','এ','ঐ','ও','ঔ',\n",
        "             'ক','খ','গ','ঘ','ঙ',\n",
        "             'চ','ছ','জ','ঝ','ঞ', \n",
        "             'ট','ঠ','ড','ঢ','ণ',\n",
        "             'ত','থ','দ','ধ','ন',\n",
        "             'প','ফ','ব','ভ','ম',\n",
        "             'য','র','ল',\n",
        "             'শ','ষ','স','হ',\n",
        "             'য়','ড়','ঢ়','ৎ','ং','ঃ','ঁ']\n",
        "Temp = []\n",
        "for folder in folders:\n",
        "    images = os.listdir((train_path+folder))\n",
        "    temp = []\n",
        "    for image in images:\n",
        "      try:\n",
        "        img = Image.open(train_path+folder+'/'+image).convert('L')\n",
        "        img = img.resize((32,32))\n",
        "        arr = np.array(img)[..., np.newaxis]\n",
        "        arr = arr / 255.0\n",
        "        Temp.append(arr)\n",
        "      except:\n",
        "        continue\n",
        "X_orig = np.stack(Temp)\n",
        "print(X_orig.shape)"
      ],
      "execution_count": null,
      "outputs": [
        {
          "output_type": "stream",
          "text": [
            "(12000, 32, 32, 1)\n"
          ],
          "name": "stdout"
        }
      ]
    },
    {
      "cell_type": "code",
      "metadata": {
        "id": "09lL4rUrYOp2",
        "colab_type": "code",
        "colab": {
          "base_uri": "https://localhost:8080/",
          "height": 34
        },
        "outputId": "8fa65542-9bbc-4ef1-9f64-352e6e385b52"
      },
      "source": [
        "Y_orig = []\n",
        "[Y_orig.extend([bc]*240) for bc in range(len(label_map))]\n",
        "Y_orig = np.stack(Y_orig)\n",
        "Y_orig = keras.utils.to_categorical(Y_orig, len(np.unique(Y_orig)))\n",
        "print(Y_orig.shape)"
      ],
      "execution_count": null,
      "outputs": [
        {
          "output_type": "stream",
          "text": [
            "(12000, 50)\n"
          ],
          "name": "stdout"
        }
      ]
    },
    {
      "cell_type": "code",
      "metadata": {
        "id": "_rYDP9nmYOp9",
        "colab_type": "code",
        "colab": {
          "base_uri": "https://localhost:8080/",
          "height": 34
        },
        "outputId": "0236fc0b-0a3e-4f83-8e13-f75ef26e0a0c"
      },
      "source": [
        "indices = np.arange(X_orig.shape[0])\n",
        "np.random.shuffle(indices)\n",
        "X_orig = X_orig[indices]\n",
        "Y_orig = Y_orig[indices]\n",
        "\n",
        "print(X_orig.shape,Y_orig.shape)"
      ],
      "execution_count": null,
      "outputs": [
        {
          "output_type": "stream",
          "text": [
            "(12000, 32, 32, 1) (12000, 50)\n"
          ],
          "name": "stdout"
        }
      ]
    },
    {
      "cell_type": "code",
      "metadata": {
        "id": "tgCraJsF6AAa",
        "colab_type": "code",
        "colab": {
          "base_uri": "https://localhost:8080/",
          "height": 34
        },
        "outputId": "121fbb78-6890-430d-d690-1784c28fc86c"
      },
      "source": [
        "test_path = os.getcwd()+'/BasicFinalDatabase/Test'\n",
        "folders = []\n",
        "[folders.append('/'+i) for i in sorted(os.listdir(test_path))]\n",
        "\n",
        "Temp2 = []\n",
        "for folder in folders:\n",
        "    images = os.listdir((test_path+folder))\n",
        "    for image in images:\n",
        "      try:\n",
        "        img = Image.open(test_path+folder+'/'+image).convert('L')\n",
        "        img = img.resize((32,32))\n",
        "        arr = np.array(img)[..., np.newaxis]\n",
        "        arr = arr / 255.0\n",
        "        Temp2.append(arr)\n",
        "      except:\n",
        "        continue\n",
        "        \n",
        "X_test = np.stack(Temp2)\n",
        "print(X_test.shape)"
      ],
      "execution_count": null,
      "outputs": [
        {
          "output_type": "stream",
          "text": [
            "(3000, 32, 32, 1)\n"
          ],
          "name": "stdout"
        }
      ]
    },
    {
      "cell_type": "code",
      "metadata": {
        "id": "_2I8AptoYOqO",
        "colab_type": "code",
        "colab": {
          "base_uri": "https://localhost:8080/",
          "height": 34
        },
        "outputId": "e64183ba-be50-41a3-ca4e-4548d4dda101"
      },
      "source": [
        "Y_test = []\n",
        "[Y_test.extend([bc]*60) for bc in range(len(label_map))]\n",
        "Y_test = np.stack(Y_test)\n",
        "Y_test = keras.utils.to_categorical(Y_test, len(np.unique(Y_test)))\n",
        "print(Y_test.shape)"
      ],
      "execution_count": null,
      "outputs": [
        {
          "output_type": "stream",
          "text": [
            "(3000, 50)\n"
          ],
          "name": "stdout"
        }
      ]
    },
    {
      "cell_type": "code",
      "metadata": {
        "id": "6grHqRUxYOqV",
        "colab_type": "code",
        "colab": {
          "base_uri": "https://localhost:8080/",
          "height": 34
        },
        "outputId": "73defb80-3b26-4607-e76a-7cac08434cf5"
      },
      "source": [
        "indices = np.arange(X_test.shape[0])\n",
        "np.random.shuffle(indices)\n",
        "X_test = X_test[indices]\n",
        "Y_test = Y_test[indices]\n",
        "\n",
        "print(X_test.shape,Y_test.shape)"
      ],
      "execution_count": null,
      "outputs": [
        {
          "output_type": "stream",
          "text": [
            "(3000, 32, 32, 1) (3000, 50)\n"
          ],
          "name": "stdout"
        }
      ]
    },
    {
      "cell_type": "code",
      "metadata": {
        "id": "36Tcq5-GYOqg",
        "colab_type": "code",
        "colab": {
          "base_uri": "https://localhost:8080/",
          "height": 34
        },
        "outputId": "8a794b78-2a09-4d12-e4ef-d43489382f6d"
      },
      "source": [
        "X_train,X_dev,Y_train,Y_dev = train_test_split(X_orig, Y_orig, test_size=0.2, shuffle=False)\n",
        "X_train.shape,Y_train.shape,X_dev.shape,Y_dev.shape"
      ],
      "execution_count": null,
      "outputs": [
        {
          "output_type": "execute_result",
          "data": {
            "text/plain": [
              "((9600, 32, 32, 1), (9600, 50), (2400, 32, 32, 1), (2400, 50))"
            ]
          },
          "metadata": {
            "tags": []
          },
          "execution_count": 13
        }
      ]
    },
    {
      "cell_type": "code",
      "metadata": {
        "id": "zCIqsQiEYOqs",
        "colab_type": "code",
        "colab": {
          "base_uri": "https://localhost:8080/",
          "height": 904
        },
        "outputId": "7abb9e67-222d-460d-80dd-0ad274ea73a1"
      },
      "source": [
        "bs=64\n",
        "ep=25\n",
        "drop_prob=0.2\n",
        "\n",
        "model = Sequential()\n",
        "model.add(Conv2D(32, kernel_size=(3, 3),\n",
        "                 activation='relu',\n",
        "                 input_shape=(32,32,1)))\n",
        "model.add(MaxPooling2D(pool_size=(2, 2)))\n",
        "model.add(Conv2D(64, (3, 3), activation='relu'))\n",
        "model.add(MaxPooling2D(pool_size=(2, 2)))\n",
        "model.add(Dropout(drop_prob))\n",
        "model.add(Flatten())\n",
        "model.add(Dense(128, activation='relu'))\n",
        "model.add(Dense(50, activation='softmax'))\n",
        "\n",
        "opt = keras.optimizers.Adam()\n",
        "\n",
        "model.compile(loss=keras.losses.categorical_crossentropy,\n",
        "              optimizer=opt,\n",
        "              metrics=['accuracy'])\n",
        "\n",
        "history = model.fit(X_train, Y_train,\n",
        "          batch_size=bs,\n",
        "          epochs=ep,\n",
        "          verbose=1,\n",
        "          validation_data=(X_dev, Y_dev))\n",
        "print(history)"
      ],
      "execution_count": null,
      "outputs": [
        {
          "output_type": "stream",
          "text": [
            "Epoch 1/25\n",
            "150/150 [==============================] - 11s 76ms/step - loss: 2.9023 - accuracy: 0.2526 - val_loss: 1.5675 - val_accuracy: 0.5754\n",
            "Epoch 2/25\n",
            "150/150 [==============================] - 12s 81ms/step - loss: 1.2088 - accuracy: 0.6573 - val_loss: 0.9251 - val_accuracy: 0.7446\n",
            "Epoch 3/25\n",
            "150/150 [==============================] - 12s 79ms/step - loss: 0.7835 - accuracy: 0.7782 - val_loss: 0.7623 - val_accuracy: 0.7879\n",
            "Epoch 4/25\n",
            "150/150 [==============================] - 12s 82ms/step - loss: 0.6025 - accuracy: 0.8248 - val_loss: 0.6829 - val_accuracy: 0.7971\n",
            "Epoch 5/25\n",
            "150/150 [==============================] - 11s 76ms/step - loss: 0.4836 - accuracy: 0.8557 - val_loss: 0.6200 - val_accuracy: 0.8213\n",
            "Epoch 6/25\n",
            "150/150 [==============================] - 12s 79ms/step - loss: 0.3818 - accuracy: 0.8843 - val_loss: 0.5723 - val_accuracy: 0.8400\n",
            "Epoch 7/25\n",
            "150/150 [==============================] - 12s 78ms/step - loss: 0.3078 - accuracy: 0.9095 - val_loss: 0.5491 - val_accuracy: 0.8442\n",
            "Epoch 8/25\n",
            "150/150 [==============================] - 12s 77ms/step - loss: 0.2500 - accuracy: 0.9269 - val_loss: 0.5656 - val_accuracy: 0.8442\n",
            "Epoch 9/25\n",
            "150/150 [==============================] - 12s 80ms/step - loss: 0.2123 - accuracy: 0.9336 - val_loss: 0.5456 - val_accuracy: 0.8475\n",
            "Epoch 10/25\n",
            "150/150 [==============================] - 12s 77ms/step - loss: 0.1681 - accuracy: 0.9472 - val_loss: 0.5393 - val_accuracy: 0.8587\n",
            "Epoch 11/25\n",
            "150/150 [==============================] - 12s 82ms/step - loss: 0.1301 - accuracy: 0.9614 - val_loss: 0.5314 - val_accuracy: 0.8646\n",
            "Epoch 12/25\n",
            "150/150 [==============================] - 12s 80ms/step - loss: 0.1154 - accuracy: 0.9630 - val_loss: 0.5637 - val_accuracy: 0.8575\n",
            "Epoch 13/25\n",
            "150/150 [==============================] - 13s 86ms/step - loss: 0.1009 - accuracy: 0.9695 - val_loss: 0.5754 - val_accuracy: 0.8646\n",
            "Epoch 14/25\n",
            "150/150 [==============================] - 12s 78ms/step - loss: 0.0875 - accuracy: 0.9723 - val_loss: 0.5828 - val_accuracy: 0.8617\n",
            "Epoch 15/25\n",
            "150/150 [==============================] - 12s 82ms/step - loss: 0.0796 - accuracy: 0.9741 - val_loss: 0.5893 - val_accuracy: 0.8550\n",
            "Epoch 16/25\n",
            "150/150 [==============================] - 12s 81ms/step - loss: 0.0692 - accuracy: 0.9776 - val_loss: 0.5733 - val_accuracy: 0.8637\n",
            "Epoch 17/25\n",
            "150/150 [==============================] - 12s 82ms/step - loss: 0.0665 - accuracy: 0.9793 - val_loss: 0.6217 - val_accuracy: 0.8579\n",
            "Epoch 18/25\n",
            "150/150 [==============================] - 12s 78ms/step - loss: 0.0654 - accuracy: 0.9777 - val_loss: 0.6460 - val_accuracy: 0.8550\n",
            "Epoch 19/25\n",
            "150/150 [==============================] - 12s 80ms/step - loss: 0.0451 - accuracy: 0.9857 - val_loss: 0.6347 - val_accuracy: 0.8608\n",
            "Epoch 20/25\n",
            "150/150 [==============================] - 12s 78ms/step - loss: 0.0452 - accuracy: 0.9864 - val_loss: 0.6636 - val_accuracy: 0.8662\n",
            "Epoch 21/25\n",
            "150/150 [==============================] - 12s 78ms/step - loss: 0.0469 - accuracy: 0.9848 - val_loss: 0.6419 - val_accuracy: 0.8633\n",
            "Epoch 22/25\n",
            "150/150 [==============================] - 12s 81ms/step - loss: 0.0402 - accuracy: 0.9874 - val_loss: 0.6621 - val_accuracy: 0.8625\n",
            "Epoch 23/25\n",
            "150/150 [==============================] - 12s 80ms/step - loss: 0.0405 - accuracy: 0.9871 - val_loss: 0.6575 - val_accuracy: 0.8667\n",
            "Epoch 24/25\n",
            "150/150 [==============================] - 12s 81ms/step - loss: 0.0499 - accuracy: 0.9827 - val_loss: 0.6689 - val_accuracy: 0.8650\n",
            "Epoch 25/25\n",
            "150/150 [==============================] - 12s 79ms/step - loss: 0.0384 - accuracy: 0.9879 - val_loss: 0.6681 - val_accuracy: 0.8571\n",
            "<tensorflow.python.keras.callbacks.History object at 0x7f5161a2c7b8>\n"
          ],
          "name": "stdout"
        }
      ]
    },
    {
      "cell_type": "code",
      "metadata": {
        "id": "V8EAMpvf_-e9",
        "colab_type": "code",
        "colab": {}
      },
      "source": [
        "from datetime import datetime\n",
        "now = str(datetime.now())\n",
        "\n",
        "project_dir = '/content/drive/Shared drives/4.2/SoftcomProject/bhwcr-cmaterdb-keras/'\n",
        "\n",
        "model_json = model.to_json()\n",
        "with open(\"/content/drive/Shared drives/4.2/SoftcomProject/bhwcr-cmaterdb-keras/model_25_64.json\", \"w\") as json_file:\n",
        "    json_file.write(model_json)\n",
        "\n",
        "model.save_weights(project_dir+\"/model_\"+str(ep)+\"_\"+str(bs)+\"_\"+now+\".h5\")"
      ],
      "execution_count": null,
      "outputs": []
    },
    {
      "cell_type": "code",
      "metadata": {
        "id": "UtloKQWIYOq4",
        "colab_type": "code",
        "colab": {
          "base_uri": "https://localhost:8080/",
          "height": 68
        },
        "outputId": "41de275e-0f08-40eb-9a07-94e27971395b"
      },
      "source": [
        "score = model.evaluate(X_test, Y_test, verbose=1)\n",
        "print('Test loss:', score[0])\n",
        "print('Test accuracy:', score[1])"
      ],
      "execution_count": null,
      "outputs": [
        {
          "output_type": "stream",
          "text": [
            "94/94 [==============================] - 1s 11ms/step - loss: 0.7168 - accuracy: 0.8607\n",
            "Test loss: 0.7168163061141968\n",
            "Test accuracy: 0.8606666922569275\n"
          ],
          "name": "stdout"
        }
      ]
    },
    {
      "cell_type": "code",
      "metadata": {
        "id": "ZmVTNbI-EEMS",
        "colab_type": "code",
        "colab": {
          "base_uri": "https://localhost:8080/",
          "height": 590
        },
        "outputId": "b1c342a9-0350-4840-83a6-671c2ac61d79"
      },
      "source": [
        "print(history.history.keys())\n",
        "\n",
        "plt.plot(history.history['accuracy'])\n",
        "plt.plot(history.history['val_accuracy'])\n",
        "plt.title('model accuracy')\n",
        "plt.ylabel('accuracy')\n",
        "plt.xlabel('epoch')\n",
        "plt.legend(['train', 'test'], loc='upper left')\n",
        "plt.show()\n",
        "\n",
        "plt.plot(history.history['loss'])\n",
        "plt.plot(history.history['val_loss'])\n",
        "plt.title('model loss')\n",
        "plt.ylabel('loss')\n",
        "plt.xlabel('epoch')\n",
        "plt.legend(['train', 'test'], loc='upper left')\n",
        "plt.show()"
      ],
      "execution_count": null,
      "outputs": [
        {
          "output_type": "stream",
          "text": [
            "dict_keys(['loss', 'accuracy', 'val_loss', 'val_accuracy'])\n"
          ],
          "name": "stdout"
        },
        {
          "output_type": "display_data",
          "data": {
            "image/png": "[encoded data removed]",
            "text/plain": [
              "<Figure size 432x288 with 1 Axes>"
            ]
          },
          "metadata": {
            "tags": [],
            "needs_background": "light"
          }
        },
        {
          "output_type": "display_data",
          "data": {
            "image/png": "[encoded data removed]",
            "text/plain": [
              "<Figure size 432x288 with 1 Axes>"
            ]
          },
          "metadata": {
            "tags": [],
            "needs_background": "light"
          }
        }
      ]
    },
    {
      "cell_type": "code",
      "metadata": {
        "id": "ugAUFC18Atuh",
        "colab_type": "code",
        "colab": {
          "base_uri": "https://localhost:8080/",
          "height": 34
        },
        "outputId": "71eaa818-9393-4a63-bf55-2cab32e3e459"
      },
      "source": [
        "model_dir=\"/content/drive/Shared drives/4.2/SoftcomProject/bhwcr-cmaterdb-keras/model_25_64_2020-09-19 08:57:06.588633.h5\"\n",
        "model_json=\"/content/drive/Shared drives/4.2/SoftcomProject/bhwcr-cmaterdb-keras/model_25_64.json\"\n",
        "\n",
        "json_file = open(model_json, 'r')\n",
        "loaded_model_json = json_file.read()\n",
        "json_file.close()\n",
        "loaded_model = model_from_json(loaded_model_json)\n",
        "\n",
        "loaded_model.load_weights(model_dir)\n",
        "print(\"model loaded\")"
      ],
      "execution_count": 25,
      "outputs": [
        {
          "output_type": "stream",
          "text": [
            "model loaded\n"
          ],
          "name": "stdout"
        }
      ]
    },
    {
      "cell_type": "code",
      "metadata": {
        "id": "jGMDK04SAx3p",
        "colab_type": "code",
        "colab": {
          "base_uri": "https://localhost:8080/",
          "height": 51
        },
        "outputId": "21d67dd3-066e-4d29-a1e8-b7c5f28b5042"
      },
      "source": [
        "loaded_model.compile(loss=keras.losses.categorical_crossentropy,\n",
        "              optimizer=keras.optimizers.Adagrad(),\n",
        "              metrics=['accuracy'])\n",
        "score = loaded_model.evaluate(X_test, Y_test, verbose=1)\n",
        "print(\"%s: %.2f%%\" % (loaded_model.metrics_names[1], score[1]*100))"
      ],
      "execution_count": 26,
      "outputs": [
        {
          "output_type": "stream",
          "text": [
            "94/94 [==============================] - 1s 13ms/step - loss: 0.7168 - accuracy: 0.8607\n",
            "accuracy: 86.07%\n"
          ],
          "name": "stdout"
        }
      ]
    },
    {
      "cell_type": "code",
      "metadata": {
        "id": "MoyPD-9_ou8u",
        "colab_type": "code",
        "colab": {}
      },
      "source": [
        "'''\n",
        "label_map = np.array(['অ','আ','ই ','ঈ','উ','ঊ','ঋ','এ','ঐ','ও','ঔ',\n",
        "             'ক','খ','গ','ঘ','ঙ',\n",
        "             'চ','ছ','জ','ঝ','ঞ', \n",
        "             'ট','ঠ','ড','ঢ','ণ',\n",
        "             'ত','থ','দ','ধ','ন',\n",
        "             'প','ফ','ব','ভ','ম',\n",
        "             'য','র','ল',\n",
        "             'শ','ষ','স','হ',\n",
        "             'য়','ড়','ঢ়','ৎ','ং','ঃ','ঁ'])\n",
        "\n",
        "preds = model.predict(X_test) \n",
        "preds_single = Y_test[np.argmax(Y_test, axis = -1)]\n",
        "actual_single = Y_test[np.argmax(Y_test, axis = -1)]\n",
        "\n",
        "n_to_show = 10\n",
        "indices = np.random.choice(range(len(X_test)), n_to_show)\n",
        "\n",
        "fig = plt.figure(figsize=(15, 3))\n",
        "fig.subplots_adjust(hspace=0.4, wspace=0.4)\n",
        "\n",
        "for i, idx in enumerate(indices):\n",
        "    img = X_test[idx]\n",
        "    ax = fig.add_subplot(1, n_to_show, i+1)\n",
        "    ax.axis('off')\n",
        "    ax.text(0.5, -0.35, 'pred = ' + str(preds_single[idx]), fontsize=10\n",
        "       , ha='center', transform=ax.transAxes)\n",
        "    ax.text(0.5, -0.7, 'act = ' + str(actual_single[idx]), fontsize=10\n",
        "        , ha='center', transform=ax.transAxes)\n",
        "    ax.imshow(img.fromarray(data, 'RGB'))\n",
        "  '''"
      ],
      "execution_count": 41,
      "outputs": []
    }
  ]
}