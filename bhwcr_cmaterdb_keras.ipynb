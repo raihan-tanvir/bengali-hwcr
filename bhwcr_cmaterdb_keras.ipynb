{
  "nbformat": 4,
  "nbformat_minor": 0,
  "metadata": {
    "colab": {
      "name": "bhwcr-cmaterdb-keras.ipynb",
      "provenance": [],
      "collapsed_sections": [],
      "include_colab_link": true
    },
    "language_info": {
      "codemirror_mode": {
        "name": "ipython",
        "version": 3
      },
      "file_extension": ".py",
      "mimetype": "text/x-python",
      "name": "python",
      "nbconvert_exporter": "python",
      "pygments_lexer": "ipython3",
      "version": "3.5.2"
    },
    "kernelspec": {
      "display_name": "Python 3",
      "language": "python",
      "name": "python3"
    }
  },
  "cells": [
    {
      "cell_type": "markdown",
      "metadata": {
        "id": "view-in-github",
        "colab_type": "text"
      },
      "source": [
        "<a href=\"https://colab.research.google.com/github/raihan-tanvir/bengali-hwcr/blob/master/bhwcr_cmaterdb_keras.ipynb\" target=\"_parent\"><img src=\"https://colab.research.google.com/assets/colab-badge.svg\" alt=\"Open In Colab\"/></a>"
      ]
    },
    {
      "cell_type": "code",
      "metadata": {
        "id": "6VkxGIZc8C9T",
        "colab_type": "code",
        "colab": {
          "base_uri": "https://localhost:8080/",
          "height": 34
        },
        "outputId": "36247a27-048c-4eb4-efd8-71e0f8065f7e"
      },
      "source": [
        "from google.colab import drive\n",
        "drive.mount('/content/drive')"
      ],
      "execution_count": 1,
      "outputs": [
        {
          "output_type": "stream",
          "text": [
            "Mounted at /content/drive\n"
          ],
          "name": "stdout"
        }
      ]
    },
    {
      "cell_type": "code",
      "metadata": {
        "id": "LhLUDd6cYOpe",
        "colab_type": "code",
        "colab": {}
      },
      "source": [
        "import numpy as np\n",
        "import matplotlib.pyplot as plt\n",
        "import keras\n",
        "import os\n",
        "from PIL import Image\n",
        "from keras.models import Sequential,load_model\n",
        "from keras.layers import Dense, Dropout, Flatten\n",
        "from keras.layers import Conv2D, MaxPooling2D\n",
        "from keras import backend as K\n",
        "from keras.models import model_from_json\n",
        "from sklearn.model_selection import train_test_split\n",
        "\n",
        "%matplotlib inline"
      ],
      "execution_count": 2,
      "outputs": []
    },
    {
      "cell_type": "code",
      "metadata": {
        "id": "ZsSaJUWd0yHc",
        "colab_type": "code",
        "colab": {
          "base_uri": "https://localhost:8080/",
          "height": 445
        },
        "outputId": "c150b524-270a-437e-a842-2bd21ad30e0a"
      },
      "source": [
        "!wget https://www.dropbox.com/s/55bhfr3ycvsewsi/CMATERdb%203.1.2.rar\n",
        "!unrar x CMATERdb\\ 3.1.2.rar -idq"
      ],
      "execution_count": 3,
      "outputs": [
        {
          "output_type": "stream",
          "text": [
            "--2020-09-17 07:50:29--  https://www.dropbox.com/s/55bhfr3ycvsewsi/CMATERdb%203.1.2.rar\n",
            "Resolving www.dropbox.com (www.dropbox.com)... 162.125.82.1, 2620:100:6032:1::a27d:5201\n",
            "Connecting to www.dropbox.com (www.dropbox.com)|162.125.82.1|:443... connected.\n",
            "HTTP request sent, awaiting response... 301 Moved Permanently\n",
            "Location: /s/raw/55bhfr3ycvsewsi/CMATERdb%203.1.2.rar [following]\n",
            "--2020-09-17 07:50:29--  https://www.dropbox.com/s/raw/55bhfr3ycvsewsi/CMATERdb%203.1.2.rar\n",
            "Reusing existing connection to www.dropbox.com:443.\n",
            "HTTP request sent, awaiting response... 302 Found\n",
            "Location: https://uc1e46337255a4a161ecf9f85b13.dl.dropboxusercontent.com/cd/0/inline/A_h47iqNwjTJl_ikyG-Zw406HHV4QvzYcRSVa4aKUldcmCTdPknlHGORBGlQg3WCLnfVw3J3tJClXxbEO4LV9RNOTQaHPMMDfUgs5e1rEU-w8g/file# [following]\n",
            "--2020-09-17 07:50:30--  https://uc1e46337255a4a161ecf9f85b13.dl.dropboxusercontent.com/cd/0/inline/A_h47iqNwjTJl_ikyG-Zw406HHV4QvzYcRSVa4aKUldcmCTdPknlHGORBGlQg3WCLnfVw3J3tJClXxbEO4LV9RNOTQaHPMMDfUgs5e1rEU-w8g/file\n",
            "Resolving uc1e46337255a4a161ecf9f85b13.dl.dropboxusercontent.com (uc1e46337255a4a161ecf9f85b13.dl.dropboxusercontent.com)... 162.125.82.15, 2620:100:6032:15::a27d:520f\n",
            "Connecting to uc1e46337255a4a161ecf9f85b13.dl.dropboxusercontent.com (uc1e46337255a4a161ecf9f85b13.dl.dropboxusercontent.com)|162.125.82.15|:443... connected.\n",
            "HTTP request sent, awaiting response... 302 Found\n",
            "Location: /cd/0/inline2/A_hktLkPlIDlJtKsPfUWENovUXvD4B9Z8nPAezFtl2LY1sdtdIwwGEDqIYlBycPFME5AQWNVvoIm1uIdMZNw6HkAf_8EMwWZkP16hN_ZuANxBfilF1eyRkANtY7FAGOdEjr7Zp594LJ58bBWh5me8rqh0SU3d3lacKA8ancIujVH6f4dL8GvE2W4TbXaws1BixtUywxXaKGbeJ25s2TZjr8v75hLH_Hwf6lPXKzwAed_tkdb691vhiLQsJT-Px5bL_ULXLAkndEAlzMzqimIFpUlGY0XOxvNX_4fK384oQeF5x4QevWWE0YCYteopXIo_59QbhlFVrVIfmsecV-0LrDL/file [following]\n",
            "--2020-09-17 07:50:31--  https://uc1e46337255a4a161ecf9f85b13.dl.dropboxusercontent.com/cd/0/inline2/A_hktLkPlIDlJtKsPfUWENovUXvD4B9Z8nPAezFtl2LY1sdtdIwwGEDqIYlBycPFME5AQWNVvoIm1uIdMZNw6HkAf_8EMwWZkP16hN_ZuANxBfilF1eyRkANtY7FAGOdEjr7Zp594LJ58bBWh5me8rqh0SU3d3lacKA8ancIujVH6f4dL8GvE2W4TbXaws1BixtUywxXaKGbeJ25s2TZjr8v75hLH_Hwf6lPXKzwAed_tkdb691vhiLQsJT-Px5bL_ULXLAkndEAlzMzqimIFpUlGY0XOxvNX_4fK384oQeF5x4QevWWE0YCYteopXIo_59QbhlFVrVIfmsecV-0LrDL/file\n",
            "Reusing existing connection to uc1e46337255a4a161ecf9f85b13.dl.dropboxusercontent.com:443.\n",
            "HTTP request sent, awaiting response... 200 OK\n",
            "Length: 8720925 (8.3M) [application/rar]\n",
            "Saving to: ‘CMATERdb 3.1.2.rar’\n",
            "\n",
            "CMATERdb 3.1.2.rar  100%[===================>]   8.32M  20.4MB/s    in 0.4s    \n",
            "\n",
            "2020-09-17 07:50:32 (20.4 MB/s) - ‘CMATERdb 3.1.2.rar’ saved [8720925/8720925]\n",
            "\n"
          ],
          "name": "stdout"
        }
      ]
    },
    {
      "cell_type": "code",
      "metadata": {
        "id": "MuEAIhzGYOps",
        "colab_type": "code",
        "colab": {
          "base_uri": "https://localhost:8080/",
          "height": 68
        },
        "outputId": "99884a1c-5dc8-491e-ada6-543d924c293a"
      },
      "source": [
        "train_path = os.getcwd()+'/BasicFinalDatabase/Train'\n",
        "folders = []\n",
        "[folders.append('/'+i) for i in sorted(os.listdir(train_path))]\n",
        "label_map = ['অ','আ','ই ','ঈ','উ','ঊ','ঋ','এ','ঐ','ও','ঔ',\n",
        "             'ক','খ','গ','ঘ','ঙ',\n",
        "             'চ','ছ','জ','ঝ','ঞ', \n",
        "             'ট','ঠ','ড','ঢ','ণ',\n",
        "             'ত','থ','দ','ধ','ন',\n",
        "             'প','ফ','ব','ভ','ম',\n",
        "             'য','র','ল',\n",
        "             'শ','ষ','স','হ',\n",
        "             'য়','ড়','ঢ়','ৎ','ং','ঃ','ঁ']\n",
        "Temp = []\n",
        "for folder in folders:\n",
        "    \n",
        "    images = os.listdir((train_path+folder))\n",
        "    temp = []\n",
        "    for image in images:\n",
        "      try:\n",
        "        img = Image.open(train_path+folder+'/'+image).convert('L')\n",
        "        img = img.resize((32,32))\n",
        "        arr = np.array(img)[..., np.newaxis]\n",
        "        #arr = np.true_divide(arr,[255.0],out=None)\n",
        "        arr = arr / 255.0\n",
        "        Temp.append(arr)\n",
        "      except:\n",
        "        continue\n",
        "X_orig = np.stack(Temp)\n",
        "print(X_orig.shape)\n",
        "print(np.mean(X_orig))\n",
        "print(np.std(X_orig))"
      ],
      "execution_count": 4,
      "outputs": [
        {
          "output_type": "stream",
          "text": [
            "(12000, 32, 32, 1)\n",
            "0.4185758996502239\n",
            "0.2384894180820233\n"
          ],
          "name": "stdout"
        }
      ]
    },
    {
      "cell_type": "code",
      "metadata": {
        "id": "09lL4rUrYOp2",
        "colab_type": "code",
        "colab": {}
      },
      "source": [
        "Y_orig = []\n",
        "[Y_orig.extend([bc]*240) for bc in range(len(label_map))]\n",
        "Y_orig = np.stack(Y_orig)\n",
        "Y_orig = keras.utils.to_categorical(Y_orig, len(np.unique(Y_orig)))\n",
        "print(Y_orig)"
      ],
      "execution_count": 5,
      "outputs": []
    },
    {
      "cell_type": "code",
      "metadata": {
        "id": "_rYDP9nmYOp9",
        "colab_type": "code",
        "colab": {
          "base_uri": "https://localhost:8080/",
          "height": 34
        },
        "outputId": "e5ec4cff-c07a-459c-bfbe-99ad49e36b9c"
      },
      "source": [
        "indices = np.arange(X_orig.shape[0])\n",
        "np.random.shuffle(indices)\n",
        "X_orig = X_orig[indices]\n",
        "Y_orig = Y_orig[indices]\n",
        "\n",
        "print(X_orig.shape,Y_orig.shape)"
      ],
      "execution_count": 6,
      "outputs": [
        {
          "output_type": "stream",
          "text": [
            "(12000, 32, 32, 1) (12000, 50)\n"
          ],
          "name": "stdout"
        }
      ]
    },
    {
      "cell_type": "code",
      "metadata": {
        "id": "tgCraJsF6AAa",
        "colab_type": "code",
        "colab": {
          "base_uri": "https://localhost:8080/",
          "height": 34
        },
        "outputId": "b6665678-7317-434f-f474-062303868abd"
      },
      "source": [
        "\n",
        "test_path = os.getcwd()+'/BasicFinalDatabase/Test'\n",
        "folders = []\n",
        "[folders.append('/'+i) for i in sorted(os.listdir(test_path))]\n",
        "\n",
        "Temp2 = []\n",
        "for folder in folders:\n",
        "    images = os.listdir((test_path+folder))\n",
        "    for image in images:\n",
        "      try:\n",
        "        img = Image.open(test_path+folder+'/'+image).convert('L')\n",
        "        img = img.resize((32,32))\n",
        "        arr = np.array(img)[..., np.newaxis]\n",
        "        #arr = np.true_divide(arr,[255.0],out=None)\n",
        "        arr = arr / 255.0\n",
        "        Temp2.append(arr)\n",
        "      except:\n",
        "        continue\n",
        "\n",
        "X_test = np.stack(Temp2)\n",
        "print(X_test.shape)"
      ],
      "execution_count": 7,
      "outputs": [
        {
          "output_type": "stream",
          "text": [
            "(3000, 32, 32, 1)\n"
          ],
          "name": "stdout"
        }
      ]
    },
    {
      "cell_type": "code",
      "metadata": {
        "id": "_2I8AptoYOqO",
        "colab_type": "code",
        "colab": {
          "base_uri": "https://localhost:8080/",
          "height": 34
        },
        "outputId": "a917c224-8c8d-4627-e6e3-2765f1577351"
      },
      "source": [
        "Y_test = []\n",
        "[Y_test.extend([bc]*60) for bc in range(len(label_map))]\n",
        "Y_test = np.stack(Y_test)\n",
        "Y_test = keras.utils.to_categorical(Y_test, len(np.unique(Y_test)))\n",
        "print(Y_test.shape)"
      ],
      "execution_count": 8,
      "outputs": [
        {
          "output_type": "stream",
          "text": [
            "(3000, 50)\n"
          ],
          "name": "stdout"
        }
      ]
    },
    {
      "cell_type": "code",
      "metadata": {
        "id": "6grHqRUxYOqV",
        "colab_type": "code",
        "colab": {
          "base_uri": "https://localhost:8080/",
          "height": 34
        },
        "outputId": "e715720c-430d-47eb-f61f-d3c04785e1bb"
      },
      "source": [
        "indices = np.arange(X_test.shape[0])\n",
        "np.random.shuffle(indices)\n",
        "X_test = X_test[indices]\n",
        "Y_test = Y_test[indices]\n",
        "\n",
        "print(X_test.shape,Y_test.shape)"
      ],
      "execution_count": 9,
      "outputs": [
        {
          "output_type": "stream",
          "text": [
            "(3000, 32, 32, 1) (3000, 50)\n"
          ],
          "name": "stdout"
        }
      ]
    },
    {
      "cell_type": "code",
      "metadata": {
        "id": "36Tcq5-GYOqg",
        "colab_type": "code",
        "colab": {
          "base_uri": "https://localhost:8080/",
          "height": 34
        },
        "outputId": "b7c9f75a-2bdb-41f1-f739-d65e3129cce7"
      },
      "source": [
        "X_train,X_dev,Y_train,Y_dev = train_test_split(X_orig, Y_orig, test_size=0.2, shuffle=False)\n",
        "X_train.shape,Y_train.shape,X_dev.shape,Y_dev.shape"
      ],
      "execution_count": 10,
      "outputs": [
        {
          "output_type": "execute_result",
          "data": {
            "text/plain": [
              "((9600, 32, 32, 1), (9600, 50), (2400, 32, 32, 1), (2400, 50))"
            ]
          },
          "metadata": {
            "tags": []
          },
          "execution_count": 10
        }
      ]
    },
    {
      "cell_type": "code",
      "metadata": {
        "id": "zCIqsQiEYOqs",
        "colab_type": "code",
        "colab": {
          "base_uri": "https://localhost:8080/",
          "height": 734
        },
        "outputId": "71cb09db-65e0-45d4-b52f-db5803014453"
      },
      "source": [
        "bs=64\n",
        "ep=20\n",
        "drop_prob=0.2\n",
        "\n",
        "model = Sequential()\n",
        "model.add(Conv2D(32, kernel_size=(3, 3),\n",
        "                 activation='relu',\n",
        "                 input_shape=(32,32,1)))\n",
        "model.add(MaxPooling2D(pool_size=(2, 2)))\n",
        "model.add(Conv2D(64, (3, 3), activation='relu'))\n",
        "model.add(MaxPooling2D(pool_size=(2, 2)))\n",
        "model.add(Dropout(drop_prob))\n",
        "model.add(Flatten())\n",
        "model.add(Dense(128, activation='relu'))\n",
        "model.add(Dense(50, activation='softmax'))\n",
        "\n",
        "opt = keras.optimizers.Adam()\n",
        "\n",
        "model.compile(loss=keras.losses.categorical_crossentropy,\n",
        "              optimizer=opt,\n",
        "              metrics=['accuracy'])\n",
        "\n",
        "history = model.fit(X_train, Y_train,\n",
        "          batch_size=bs,\n",
        "          epochs=ep,\n",
        "          verbose=1,\n",
        "          validation_data=(X_dev, Y_dev))\n",
        "print(history)"
      ],
      "execution_count": 33,
      "outputs": [
        {
          "output_type": "stream",
          "text": [
            "Epoch 1/20\n",
            "150/150 [==============================] - 12s 81ms/step - loss: 3.0331 - accuracy: 0.2208 - val_loss: 1.7796 - val_accuracy: 0.4904\n",
            "Epoch 2/20\n",
            "150/150 [==============================] - 12s 80ms/step - loss: 1.3200 - accuracy: 0.6332 - val_loss: 1.0383 - val_accuracy: 0.6992\n",
            "Epoch 3/20\n",
            "150/150 [==============================] - 12s 80ms/step - loss: 0.8580 - accuracy: 0.7516 - val_loss: 0.8578 - val_accuracy: 0.7462\n",
            "Epoch 4/20\n",
            "150/150 [==============================] - 12s 79ms/step - loss: 0.6578 - accuracy: 0.8096 - val_loss: 0.7357 - val_accuracy: 0.7808\n",
            "Epoch 5/20\n",
            "150/150 [==============================] - 12s 79ms/step - loss: 0.5219 - accuracy: 0.8431 - val_loss: 0.6261 - val_accuracy: 0.8171\n",
            "Epoch 6/20\n",
            "150/150 [==============================] - 12s 79ms/step - loss: 0.4276 - accuracy: 0.8700 - val_loss: 0.5861 - val_accuracy: 0.8246\n",
            "Epoch 7/20\n",
            "150/150 [==============================] - 12s 79ms/step - loss: 0.3512 - accuracy: 0.8952 - val_loss: 0.5438 - val_accuracy: 0.8417\n",
            "Epoch 8/20\n",
            "150/150 [==============================] - 12s 80ms/step - loss: 0.2910 - accuracy: 0.9105 - val_loss: 0.5339 - val_accuracy: 0.8350\n",
            "Epoch 9/20\n",
            "150/150 [==============================] - 12s 79ms/step - loss: 0.2374 - accuracy: 0.9286 - val_loss: 0.4836 - val_accuracy: 0.8517\n",
            "Epoch 10/20\n",
            "150/150 [==============================] - 12s 79ms/step - loss: 0.1983 - accuracy: 0.9398 - val_loss: 0.5266 - val_accuracy: 0.8492\n",
            "Epoch 11/20\n",
            "150/150 [==============================] - 12s 79ms/step - loss: 0.1787 - accuracy: 0.9428 - val_loss: 0.4860 - val_accuracy: 0.8517\n",
            "Epoch 12/20\n",
            "150/150 [==============================] - 12s 81ms/step - loss: 0.1499 - accuracy: 0.9546 - val_loss: 0.4988 - val_accuracy: 0.8512\n",
            "Epoch 13/20\n",
            "150/150 [==============================] - 12s 82ms/step - loss: 0.1258 - accuracy: 0.9605 - val_loss: 0.4940 - val_accuracy: 0.8608\n",
            "Epoch 14/20\n",
            "150/150 [==============================] - 12s 80ms/step - loss: 0.1162 - accuracy: 0.9638 - val_loss: 0.5150 - val_accuracy: 0.8508\n",
            "Epoch 15/20\n",
            "150/150 [==============================] - 12s 79ms/step - loss: 0.1057 - accuracy: 0.9659 - val_loss: 0.5059 - val_accuracy: 0.8596\n",
            "Epoch 16/20\n",
            "150/150 [==============================] - 12s 79ms/step - loss: 0.0892 - accuracy: 0.9715 - val_loss: 0.5615 - val_accuracy: 0.8550\n",
            "Epoch 17/20\n",
            "150/150 [==============================] - 12s 79ms/step - loss: 0.0870 - accuracy: 0.9708 - val_loss: 0.4931 - val_accuracy: 0.8717\n",
            "Epoch 18/20\n",
            "150/150 [==============================] - 12s 79ms/step - loss: 0.0605 - accuracy: 0.9835 - val_loss: 0.5043 - val_accuracy: 0.8704\n",
            "Epoch 19/20\n",
            "150/150 [==============================] - 12s 79ms/step - loss: 0.0585 - accuracy: 0.9816 - val_loss: 0.5622 - val_accuracy: 0.8604\n",
            "Epoch 20/20\n",
            "150/150 [==============================] - 12s 79ms/step - loss: 0.0627 - accuracy: 0.9803 - val_loss: 0.5185 - val_accuracy: 0.8729\n",
            "<tensorflow.python.keras.callbacks.History object at 0x7fbaface7ef0>\n"
          ],
          "name": "stdout"
        }
      ]
    },
    {
      "cell_type": "code",
      "metadata": {
        "id": "V8EAMpvf_-e9",
        "colab_type": "code",
        "colab": {
          "base_uri": "https://localhost:8080/",
          "height": 34
        },
        "outputId": "f2c7c939-2eea-40aa-d5f9-fc1a46e77ebb"
      },
      "source": [
        "from datetime import datetime\n",
        "now = str(datetime.now())\n",
        "\n",
        "project_dir = '/content/drive/Shared drives/4.2/SoftcomProject/bhwcr-cmaterdb-keras/'\n",
        "\n",
        "model_json = model.to_json()\n",
        "with open(\"model.json\", \"w\") as json_file:\n",
        "    json_file.write(model_json)\n",
        "\n",
        "model.save_weights(project_dir+\"/model_\"+str(ep)+\"_\"+str(bs)+\"_\"+now+\".h5\")"
      ],
      "execution_count": 41,
      "outputs": [
        {
          "output_type": "stream",
          "text": [
            "Saved model to disk\n"
          ],
          "name": "stdout"
        }
      ]
    },
    {
      "cell_type": "code",
      "metadata": {
        "id": "UtloKQWIYOq4",
        "colab_type": "code",
        "colab": {
          "base_uri": "https://localhost:8080/",
          "height": 68
        },
        "outputId": "8b740ff0-5e60-4f5a-f632-dac0076fe008"
      },
      "source": [
        "score = model.evaluate(X_test, Y_test, verbose=1)\n",
        "print('Test loss:', score[0])\n",
        "print('Test accuracy:', score[1])"
      ],
      "execution_count": 42,
      "outputs": [
        {
          "output_type": "stream",
          "text": [
            "94/94 [==============================] - 1s 12ms/step - loss: 0.6195 - accuracy: 0.8650\n",
            "Test loss: 0.6195052266120911\n",
            "Test accuracy: 0.8650000095367432\n"
          ],
          "name": "stdout"
        }
      ]
    },
    {
      "cell_type": "code",
      "metadata": {
        "id": "ZmVTNbI-EEMS",
        "colab_type": "code",
        "colab": {
          "base_uri": "https://localhost:8080/",
          "height": 590
        },
        "outputId": "f9e2dfc9-40ee-4ac8-fbf5-0de2849275ee"
      },
      "source": [
        "print(history.history.keys())\n",
        "\n",
        "plt.plot(history.history['accuracy'])\n",
        "plt.plot(history.history['val_accuracy'])\n",
        "plt.title('model accuracy')\n",
        "plt.ylabel('accuracy')\n",
        "plt.xlabel('epoch')\n",
        "plt.legend(['train', 'test'], loc='upper left')\n",
        "plt.show()\n",
        "\n",
        "plt.plot(history.history['loss'])\n",
        "plt.plot(history.history['val_loss'])\n",
        "plt.title('model loss')\n",
        "plt.ylabel('loss')\n",
        "plt.xlabel('epoch')\n",
        "plt.legend(['train', 'test'], loc='upper left')\n",
        "plt.show()"
      ],
      "execution_count": 38,
      "outputs": [
        {
          "output_type": "stream",
          "text": [
            "dict_keys(['loss', 'accuracy', 'val_loss', 'val_accuracy'])\n"
          ],
          "name": "stdout"
        },
        {
          "output_type": "display_data",
          "data": {
            "image/png": "[encoded data removed]",
            "text/plain": [
              "<Figure size 432x288 with 1 Axes>"
            ]
          },
          "metadata": {
            "tags": [],
            "needs_background": "light"
          }
        },
        {
          "output_type": "display_data",
          "data": {
            "image/png": "[encoded data removed]",
            "text/plain": [
              "<Figure size 432x288 with 1 Axes>"
            ]
          },
          "metadata": {
            "tags": [],
            "needs_background": "light"
          }
        }
      ]
    },
    {
      "cell_type": "code",
      "metadata": {
        "id": "ugAUFC18Atuh",
        "colab_type": "code",
        "colab": {
          "base_uri": "https://localhost:8080/",
          "height": 34
        },
        "outputId": "08e8133f-8aa9-4916-90b8-23f661c4f547"
      },
      "source": [
        "json_file = open('model.json', 'r')\n",
        "loaded_model_json = json_file.read()\n",
        "json_file.close()\n",
        "loaded_model = model_from_json(loaded_model_json)\n",
        "\n",
        "loaded_model.load_weights(project_dir+\"model.h5\")\n",
        "print(\"Loaded model from disk\")"
      ],
      "execution_count": 17,
      "outputs": [
        {
          "output_type": "stream",
          "text": [
            "Loaded model from disk\n"
          ],
          "name": "stdout"
        }
      ]
    },
    {
      "cell_type": "code",
      "metadata": {
        "id": "jGMDK04SAx3p",
        "colab_type": "code",
        "colab": {
          "base_uri": "https://localhost:8080/",
          "height": 51
        },
        "outputId": "30708dbb-0503-465a-dc1c-e094abc6455c"
      },
      "source": [
        "loaded_model.compile(loss=keras.losses.categorical_crossentropy,\n",
        "              optimizer=keras.optimizers.Adagrad(),\n",
        "              metrics=['accuracy'])\n",
        "score = loaded_model.evaluate(X_test, Y_test, verbose=1)\n",
        "print(\"%s: %.2f%%\" % (loaded_model.metrics_names[1], score[1]*100))"
      ],
      "execution_count": 18,
      "outputs": [
        {
          "output_type": "stream",
          "text": [
            "94/94 [==============================] - 1s 11ms/step - loss: 3.9131 - accuracy: 0.0223\n",
            "accuracy: 2.23%\n"
          ],
          "name": "stdout"
        }
      ]
    }
  ]
}